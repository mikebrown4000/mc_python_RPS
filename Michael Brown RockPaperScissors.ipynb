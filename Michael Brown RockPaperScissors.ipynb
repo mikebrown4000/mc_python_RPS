{
 "cells": [
  {
   "cell_type": "code",
   "execution_count": 31,
   "id": "21b650b4-8047-4126-a2f0-4be0a336dc6e",
   "metadata": {},
   "outputs": [
    {
     "name": "stdin",
     "output_type": "stream",
     "text": [
      "Pick: rock, paper, or scissors:  Rick\n"
     ]
    },
    {
     "name": "stdout",
     "output_type": "stream",
     "text": [
      "please pick a valid option\n"
     ]
    },
    {
     "name": "stdin",
     "output_type": "stream",
     "text": [
      "Pick: rock, paper, or scissors:  Rock\n"
     ]
    },
    {
     "name": "stdout",
     "output_type": "stream",
     "text": [
      "Your opponent chose: scissors\n",
      "You Win!\n"
     ]
    }
   ],
   "source": [
    "import random as random\n",
    "#receive / smooth input\n",
    "\n",
    "#function to generate valid answer\n",
    "def player_choice():\n",
    "    user_choice = input(\"Pick: rock, paper, or scissors: \")\n",
    "    user_choice = user_choice.lower()\n",
    "    if user_choice == 'rock' or user_choice == 'paper' or user_choice == 'scissors':\n",
    "        return user_choice\n",
    "    else:\n",
    "        print(\"please pick a valid option\")\n",
    "        return player_choice() #recursive!\n",
    "\n",
    "    \n",
    "#fucntion to generate computer choice\n",
    "def com_choice():\n",
    "    choices = [\"rock\", \"paper\", \"scissors\"]\n",
    "    return random.choice(choices)\n",
    "\n",
    "#check conditions:tie, user win, else lose\n",
    "def check_(user_input, com_input):\n",
    "    if user_input == com_input:\n",
    "        return \"It's a Tie!\"\n",
    "        # Tried this vvv it worked but had a lingering \"None\" print I didn't feel like debugging / refactor everthing into a loop\n",
    "            # print(\"It's a Tie! Try Again! \\n\")\n",
    "            # return play_() \n",
    "    elif (user_input == 'rock' and com_input == 'scissors') or (user_input == 'paper' and com_input == 'rock') or (user_input == 'scrissors' and com_input == 'paper'):\n",
    "        return \"You Win!\"\n",
    "    else:\n",
    "        return \"You Lose! :(\"\n",
    "\n",
    "#game logic\n",
    "    #generate user input\n",
    "    #generate cpu choice\n",
    "    #announce cpu choice\n",
    "    #check\n",
    "def play_():\n",
    "    uc = player_choice()\n",
    "    oc = com_choice()\n",
    "    print(f\"Your opponent chose: {oc}\")\n",
    "    print(f\"{check_(uc,oc)}\")\n",
    "\n",
    "#play rock paper scissors\n",
    "play_()\n",
    "\n",
    "#ask if user wants to play again (y or n)\n",
    "\n"
   ]
  },
  {
   "cell_type": "code",
   "execution_count": null,
   "id": "2062b0dd-2641-4d61-a42a-2379a2aaf767",
   "metadata": {},
   "outputs": [],
   "source": []
  },
  {
   "cell_type": "code",
   "execution_count": null,
   "id": "7290b57b-a1ce-42eb-9827-ff1ea29f873e",
   "metadata": {},
   "outputs": [],
   "source": []
  }
 ],
 "metadata": {
  "kernelspec": {
   "display_name": "Python 3 (ipykernel)",
   "language": "python",
   "name": "python3"
  },
  "language_info": {
   "codemirror_mode": {
    "name": "ipython",
    "version": 3
   },
   "file_extension": ".py",
   "mimetype": "text/x-python",
   "name": "python",
   "nbconvert_exporter": "python",
   "pygments_lexer": "ipython3",
   "version": "3.12.2"
  }
 },
 "nbformat": 4,
 "nbformat_minor": 5
}
